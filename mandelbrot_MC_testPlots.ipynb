{
 "cells": [
  {
   "cell_type": "code",
   "execution_count": 6,
   "metadata": {},
   "outputs": [],
   "source": [
    "import numpy as np\n",
    "import matplotlib.colors\n",
    "import matplotlib.pyplot as plt\n",
    "\n",
    "import mandelbrot_MC as mb"
   ]
  },
  {
   "cell_type": "code",
   "execution_count": 7,
   "metadata": {},
   "outputs": [],
   "source": [
    "xRes = 500\n",
    "yRes = 500\n",
    "\n",
    "xVals = np.linspace(mb.XMIN, mb.XMAX, xRes)\n",
    "yVals = np.linspace(mb.YMIN, mb.YMAX, yRes)"
   ]
  },
  {
   "cell_type": "code",
   "execution_count": 8,
   "metadata": {},
   "outputs": [],
   "source": [
    "out = mb.mandelbrotDomain(xVals, yVals, 50, 2, 2)\n",
    "\n",
    "fig, ax = plt.subplots()\n",
    "ax.pcolormesh(xVals, yVals, out, norm=matplotlib.colors.LogNorm())\n",
    "plt.show()"
   ]
  },
  {
   "cell_type": "code",
   "execution_count": 9,
   "metadata": {},
   "outputs": [],
   "source": [
    "area, points = mb.mandelbrotArea(1000, 10000, scatter=True)\n",
    "\n",
    "fig, ax = plt.subplots()\n",
    "\n",
    "pointsx, pointsy = zip(*points)\n",
    "\n",
    "ax.scatter(pointsx, pointsy)\n",
    "ax.set_xlim(mb.XMIN, mb.XMAX)\n",
    "ax.set_ylim(mb.YMIN, mb.YMAX)\n",
    "print(f\"Area={area}\")\n",
    "plt.show()"
   ]
  },
  {
   "cell_type": "code",
   "execution_count": 10,
   "metadata": {},
   "outputs": [],
   "source": [
    "maxIter = 500\n",
    "maxSamples = 5000\n",
    "minIter = 50\n",
    "minSamples = 500\n",
    "iterStepSize = 10\n",
    "sampleStepSize = 100\n",
    "\n",
    "samples = np.arange(minSamples, maxSamples+1, sampleStepSize)\n",
    "iterations = np.arange(minIter, maxIter+1, iterStepSize)\n",
    "\n",
    "errorI_out = mb.iterate_iterSamples_Error(iterations, samples)\n",
    "\n",
    "fig, ax = plt.subplots()\n",
    "im = ax.pcolormesh(samples, iterations, errorI_out, norm=matplotlib.colors.LogNorm())\n",
    "ax.set_xlabel(\"Samples\")\n",
    "ax.set_ylabel(\"Iterations\")\n",
    "ax.set_title(\"Error over samples and iterations\")\n",
    "fig.colorbar(im, ax = ax)\n",
    "plt.show()"
   ]
  }
 ],
 "metadata": {
  "kernelspec": {
   "display_name": "CS",
   "language": "python",
   "name": "python3"
  },
  "language_info": {
   "codemirror_mode": {
    "name": "ipython",
    "version": 3
   },
   "file_extension": ".py",
   "mimetype": "text/x-python",
   "name": "python",
   "nbconvert_exporter": "python",
   "pygments_lexer": "ipython3",
   "version": "3.11.8"
  }
 },
 "nbformat": 4,
 "nbformat_minor": 2
}
