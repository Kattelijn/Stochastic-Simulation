{
 "cells": [
  {
   "cell_type": "code",
   "execution_count": 2,
   "metadata": {},
   "outputs": [],
   "source": [
    "import numpy as np\n",
    "import matplotlib.colors\n",
    "import matplotlib.pyplot as plt\n",
    "\n",
    "import mandelbrot_MC as mb\n",
    "from mandelbrot_MC_solvers import PureRandomSampling, LatinHypercubeSampling, OrthogonalSampling"
   ]
  },
  {
   "cell_type": "markdown",
   "metadata": {},
   "source": [
    "# Mandelbrot set"
   ]
  },
  {
   "cell_type": "code",
   "execution_count": null,
   "metadata": {},
   "outputs": [],
   "source": [
    "xRes = 500\n",
    "yRes = 500\n",
    "\n",
    "xVals = np.linspace(-2, 2, xRes)\n",
    "yVals = np.linspace(-2, 2, yRes)\n",
    "\n",
    "out = mb.mandelbrotDomain(xVals, yVals, 50, 2, 2)\n",
    "\n",
    "fig, ax = plt.subplots()\n",
    "ax.pcolormesh(xVals, yVals, out, norm=matplotlib.colors.LogNorm())\n",
    "plt.show()\n"
   ]
  },
  {
   "cell_type": "markdown",
   "metadata": {},
   "source": [
    "# Test Parameters"
   ]
  },
  {
   "cell_type": "code",
   "execution_count": 5,
   "metadata": {},
   "outputs": [],
   "source": [
    "primes = np.asarray(mb.prime_sieve(300))\n",
    "pSquares = np.square(primes)\n",
    "\n",
    "SAMPLES       = pSquares[8:46]\n",
    "ITERATIONS    = np.linspace(100, 5000, 40, dtype=int)\n",
    "N_RUNS_STDERR = 10"
   ]
  },
  {
   "cell_type": "code",
   "execution_count": null,
   "metadata": {},
   "outputs": [
    {
     "name": "stdout",
     "output_type": "stream",
     "text": [
      "seed: 294134962255585091400930992399399635150\n",
      "Estimated trueArea: 1.504\n"
     ]
    }
   ],
   "source": [
    "trueSolver = PureRandomSampling(294134962255585091400930992399399635150)\n",
    "print(f\"seed: {trueSolver.get_state()}\")\n",
    "TRUE_AREA = trueSolver.parallelMandelbrotArea(1000000, 10000)\n",
    "print(f\"Estimated trueArea: {TRUE_AREA}\")"
   ]
  },
  {
   "cell_type": "markdown",
   "metadata": {},
   "source": [
    "# Pure Random"
   ]
  },
  {
   "cell_type": "code",
   "execution_count": 4,
   "metadata": {},
   "outputs": [
    {
     "name": "stderr",
     "output_type": "stream",
     "text": [
      "d:\\Documents\\School\\StochSim\\Ass1\\repo\\mandelbrot_MC.py:19: RuntimeWarning: overflow encountered in power\n",
      "  z = np.power(z, power) + val\n",
      "d:\\Documents\\School\\StochSim\\Ass1\\repo\\mandelbrot_MC.py:19: RuntimeWarning: invalid value encountered in power\n",
      "  z = np.power(z, power) + val\n"
     ]
    },
    {
     "ename": "KeyboardInterrupt",
     "evalue": "",
     "output_type": "error",
     "traceback": [
      "\u001b[1;31m---------------------------------------------------------------------------\u001b[0m",
      "\u001b[1;31mKeyboardInterrupt\u001b[0m                         Traceback (most recent call last)",
      "Cell \u001b[1;32mIn[4], line 6\u001b[0m\n\u001b[0;32m      3\u001b[0m nIter \u001b[38;5;241m=\u001b[39m \u001b[38;5;241m20000\u001b[39m\n\u001b[0;32m      4\u001b[0m nSamples \u001b[38;5;241m=\u001b[39m \u001b[38;5;241m20000\u001b[39m\n\u001b[1;32m----> 6\u001b[0m area, points \u001b[38;5;241m=\u001b[39m \u001b[43msolver\u001b[49m\u001b[38;5;241;43m.\u001b[39;49m\u001b[43mmandelbrotArea\u001b[49m\u001b[43m(\u001b[49m\u001b[43mnIter\u001b[49m\u001b[43m,\u001b[49m\u001b[43m \u001b[49m\u001b[43mnSamples\u001b[49m\u001b[43m,\u001b[49m\u001b[43m \u001b[49m\u001b[43mscatter\u001b[49m\u001b[38;5;241;43m=\u001b[39;49m\u001b[38;5;28;43;01mTrue\u001b[39;49;00m\u001b[43m)\u001b[49m\n",
      "File \u001b[1;32md:\\Documents\\School\\StochSim\\Ass1\\repo\\mandelbrot_MC_solvers.py:68\u001b[0m, in \u001b[0;36mBaseSolver.mandelbrotArea\u001b[1;34m(self, iterations, samples, power, bound, scatter)\u001b[0m\n\u001b[0;32m     65\u001b[0m y \u001b[38;5;241m=\u001b[39m samplepoints[pointIndex, \u001b[38;5;241m1\u001b[39m]\n\u001b[0;32m     67\u001b[0m sampledVal \u001b[38;5;241m=\u001b[39m \u001b[38;5;28mcomplex\u001b[39m(x, y)\n\u001b[1;32m---> 68\u001b[0m \u001b[38;5;28;01mif\u001b[39;00m \u001b[38;5;129;01mnot\u001b[39;00m \u001b[43mmandelbrotIter\u001b[49m\u001b[43m(\u001b[49m\u001b[43msampledVal\u001b[49m\u001b[43m,\u001b[49m\u001b[43m \u001b[49m\u001b[43miterations\u001b[49m\u001b[43m,\u001b[49m\u001b[43m \u001b[49m\u001b[43mpower\u001b[49m\u001b[43m,\u001b[49m\u001b[43m \u001b[49m\u001b[43mbound\u001b[49m\u001b[43m)\u001b[49m:\n\u001b[0;32m     69\u001b[0m     hits \u001b[38;5;241m+\u001b[39m\u001b[38;5;241m=\u001b[39m \u001b[38;5;241m1\u001b[39m\n\u001b[0;32m     70\u001b[0m     \u001b[38;5;28;01mif\u001b[39;00m scatter: scatterPoints\u001b[38;5;241m.\u001b[39mappend((x, y))\n",
      "File \u001b[1;32md:\\Documents\\School\\StochSim\\Ass1\\repo\\mandelbrot_MC.py:19\u001b[0m, in \u001b[0;36mmandelbrotIter\u001b[1;34m(val, nIter, power, bound)\u001b[0m\n\u001b[0;32m     17\u001b[0m z \u001b[38;5;241m=\u001b[39m \u001b[38;5;241m0\u001b[39m\n\u001b[0;32m     18\u001b[0m \u001b[38;5;28;01mfor\u001b[39;00m \u001b[38;5;28miter\u001b[39m \u001b[38;5;129;01min\u001b[39;00m \u001b[38;5;28mrange\u001b[39m(nIter):\n\u001b[1;32m---> 19\u001b[0m     z \u001b[38;5;241m=\u001b[39m \u001b[43mnp\u001b[49m\u001b[38;5;241;43m.\u001b[39;49m\u001b[43mpower\u001b[49m\u001b[43m(\u001b[49m\u001b[43mz\u001b[49m\u001b[43m,\u001b[49m\u001b[43m \u001b[49m\u001b[43mpower\u001b[49m\u001b[43m)\u001b[49m \u001b[38;5;241m+\u001b[39m val\n\u001b[0;32m     21\u001b[0m     \u001b[38;5;28;01mif\u001b[39;00m z \u001b[38;5;241m>\u001b[39m\u001b[38;5;241m=\u001b[39m bound:\n\u001b[0;32m     22\u001b[0m         \u001b[38;5;28;01mreturn\u001b[39;00m \u001b[38;5;28miter\u001b[39m\n",
      "\u001b[1;31mKeyboardInterrupt\u001b[0m: "
     ]
    }
   ],
   "source": [
    "solver = PureRandomSampling()\n",
    "\n",
    "nIter = 20000\n",
    "nSamples = 20000\n",
    "\n",
    "area, points = solver.mandelbrotArea(nIter, nSamples, scatter=True)"
   ]
  },
  {
   "cell_type": "code",
   "execution_count": 24,
   "metadata": {},
   "outputs": [],
   "source": [
    "fig, ax = plt.subplots()\n",
    "\n",
    "pointsx, pointsy = zip(*points)\n",
    "\n",
    "ax.scatter(pointsx, pointsy)\n",
    "print(f\"Area={area}\")\n",
    "plt.show()"
   ]
  },
  {
   "cell_type": "code",
   "execution_count": null,
   "metadata": {},
   "outputs": [
    {
     "name": "stdout",
     "output_type": "stream",
     "text": [
      "seed: 122093101107543952424297093105363616726\n",
      "Run 1\n"
     ]
    },
    {
     "name": "stderr",
     "output_type": "stream",
     "text": [
      "d:\\Documents\\School\\StochSim\\Ass1\\repo\\mandelbrot_MC.py:19: RuntimeWarning: overflow encountered in power\n",
      "  z = np.power(z, power) + val\n",
      "d:\\Documents\\School\\StochSim\\Ass1\\repo\\mandelbrot_MC.py:19: RuntimeWarning: invalid value encountered in power\n",
      "  z = np.power(z, power) + val\n"
     ]
    },
    {
     "name": "stdout",
     "output_type": "stream",
     "text": [
      "tRun: 6174.18\n",
      "Run 2\n",
      "tRun: 6148.77\n",
      "Run 3\n",
      "tRun: 6148.26\n",
      "Run 4\n",
      "tRun: 6148.12\n",
      "Run 5\n",
      "tRun: 6150.95\n",
      "Run 6\n",
      "tRun: 6166.82\n",
      "Run 7\n",
      "tRun: 6286.19\n",
      "Run 8\n",
      "tRun: 6468.08\n",
      "Run 9\n",
      "tRun: 6507.33\n",
      "Run 10\n",
      "tRun: 6267.60\n"
     ]
    },
    {
     "ename": "ValueError",
     "evalue": "Expected 1D or 2D array, got 3D array instead",
     "output_type": "error",
     "traceback": [
      "\u001b[1;31m---------------------------------------------------------------------------\u001b[0m",
      "\u001b[1;31mValueError\u001b[0m                                Traceback (most recent call last)",
      "Cell \u001b[1;32mIn[7], line 7\u001b[0m\n\u001b[0;32m      5\u001b[0m stdsPR, areasPR, areaPR \u001b[38;5;241m=\u001b[39m solver\u001b[38;5;241m.\u001b[39miterSample_std(N_RUNS_STDERR, ITERATIONS, SAMPLES, trueArea\u001b[38;5;241m=\u001b[39mTRUE_AREA, verbose\u001b[38;5;241m=\u001b[39m\u001b[38;5;28;01mTrue\u001b[39;00m, parallel\u001b[38;5;241m=\u001b[39m\u001b[38;5;28;01mTrue\u001b[39;00m)\n\u001b[0;32m      6\u001b[0m np\u001b[38;5;241m.\u001b[39msavetxt(experimentName \u001b[38;5;241m+\u001b[39m \u001b[38;5;124m\"\u001b[39m\u001b[38;5;124m_stds.out\u001b[39m\u001b[38;5;124m\"\u001b[39m, stdsPR)\n\u001b[1;32m----> 7\u001b[0m \u001b[43mnp\u001b[49m\u001b[38;5;241;43m.\u001b[39;49m\u001b[43msavetxt\u001b[49m\u001b[43m(\u001b[49m\u001b[43mexperimentName\u001b[49m\u001b[43m \u001b[49m\u001b[38;5;241;43m+\u001b[39;49m\u001b[43m \u001b[49m\u001b[38;5;124;43m\"\u001b[39;49m\u001b[38;5;124;43m_areas.out\u001b[39;49m\u001b[38;5;124;43m\"\u001b[39;49m\u001b[43m,\u001b[49m\u001b[43m \u001b[49m\u001b[43mareasPR\u001b[49m\u001b[43m)\u001b[49m\n",
      "File \u001b[1;32md:\\Documents\\School\\StochSim\\Ass1\\.venv\\Lib\\site-packages\\numpy\\lib\\_npyio_impl.py:1590\u001b[0m, in \u001b[0;36msavetxt\u001b[1;34m(fname, X, fmt, delimiter, newline, header, footer, comments, encoding)\u001b[0m\n\u001b[0;32m   1588\u001b[0m \u001b[38;5;66;03m# Handle 1-dimensional arrays\u001b[39;00m\n\u001b[0;32m   1589\u001b[0m \u001b[38;5;28;01mif\u001b[39;00m X\u001b[38;5;241m.\u001b[39mndim \u001b[38;5;241m==\u001b[39m \u001b[38;5;241m0\u001b[39m \u001b[38;5;129;01mor\u001b[39;00m X\u001b[38;5;241m.\u001b[39mndim \u001b[38;5;241m>\u001b[39m \u001b[38;5;241m2\u001b[39m:\n\u001b[1;32m-> 1590\u001b[0m     \u001b[38;5;28;01mraise\u001b[39;00m \u001b[38;5;167;01mValueError\u001b[39;00m(\n\u001b[0;32m   1591\u001b[0m         \u001b[38;5;124m\"\u001b[39m\u001b[38;5;124mExpected 1D or 2D array, got \u001b[39m\u001b[38;5;132;01m%d\u001b[39;00m\u001b[38;5;124mD array instead\u001b[39m\u001b[38;5;124m\"\u001b[39m \u001b[38;5;241m%\u001b[39m X\u001b[38;5;241m.\u001b[39mndim)\n\u001b[0;32m   1592\u001b[0m \u001b[38;5;28;01melif\u001b[39;00m X\u001b[38;5;241m.\u001b[39mndim \u001b[38;5;241m==\u001b[39m \u001b[38;5;241m1\u001b[39m:\n\u001b[0;32m   1593\u001b[0m     \u001b[38;5;66;03m# Common case -- 1d array of numbers\u001b[39;00m\n\u001b[0;32m   1594\u001b[0m     \u001b[38;5;28;01mif\u001b[39;00m X\u001b[38;5;241m.\u001b[39mdtype\u001b[38;5;241m.\u001b[39mnames \u001b[38;5;129;01mis\u001b[39;00m \u001b[38;5;28;01mNone\u001b[39;00m:\n",
      "\u001b[1;31mValueError\u001b[0m: Expected 1D or 2D array, got 3D array instead"
     ]
    }
   ],
   "source": [
    "solver = PureRandomSampling()\n",
    "print(f\"seed: {solver.get_state()}\")\n",
    "experimentName = \"PureRandom\"\n",
    "\n",
    "stdsPR, areasPR, areaPR = solver.iterSample_std(N_RUNS_STDERR, ITERATIONS, SAMPLES, trueArea=TRUE_AREA, verbose=True, parallel=True)\n",
    "np.savetxt(experimentName + \"_stds.out\", stdsPR)\n",
    "np.save(experimentName + \"_areas\", areasPR)"
   ]
  },
  {
   "cell_type": "code",
   "execution_count": null,
   "metadata": {},
   "outputs": [],
   "source": [
    "stdsPR = np.loadtxt(experimentName + \"_stds.out\")"
   ]
  },
  {
   "cell_type": "code",
   "execution_count": 9,
   "metadata": {},
   "outputs": [
    {
     "data": {
      "image/png": "[encoded data removed]",
      "text/plain": [
       "<Figure size 640x480 with 2 Axes>"
      ]
     },
     "metadata": {},
     "output_type": "display_data"
    }
   ],
   "source": [
    "fig, ax = plt.subplots()\n",
    "\n",
    "im = ax.imshow(stdsPR)\n",
    "\n",
    "ax.set_xlabel(\"Samples\")\n",
    "# ax.set_xticks(samples)\n",
    "ax.set_ylabel(\"Iterations\")\n",
    "# ax.set_yticks(iterations)\n",
    "ax.set_title(\"Standard Error over samples and iterations\")\n",
    "fig.colorbar(im, ax = ax)\n",
    "plt.show()"
   ]
  },
  {
   "cell_type": "markdown",
   "metadata": {},
   "source": [
    "# Latin Hypercube"
   ]
  },
  {
   "cell_type": "markdown",
   "metadata": {},
   "source": [
    "## Single Calculation"
   ]
  },
  {
   "cell_type": "code",
   "execution_count": null,
   "metadata": {},
   "outputs": [],
   "source": [
    "solver = LatinHypercubeSampling(yDomain=(0,2))\n",
    "\n",
    "nIter = 20000\n",
    "nSamples = 20000\n",
    "\n",
    "area, points = solver.mandelbrotArea(nIter, nSamples, scatter=True)"
   ]
  },
  {
   "cell_type": "code",
   "execution_count": null,
   "metadata": {},
   "outputs": [],
   "source": [
    "fig, ax = plt.subplots()\n",
    "\n",
    "pointsx, pointsy = zip(*points)\n",
    "\n",
    "ax.scatter(pointsx, pointsy)\n",
    "print(f\"Area={area}\")\n",
    "plt.show()"
   ]
  },
  {
   "cell_type": "markdown",
   "metadata": {},
   "source": [
    "## Standard Error"
   ]
  },
  {
   "cell_type": "code",
   "execution_count": null,
   "metadata": {},
   "outputs": [],
   "source": [
    "solver = LatinHypercubeSampling()\n",
    "print(f\"seed: {solver.get_state()}\")\n",
    "experimentName = \"LatinHypercube\"\n",
    "\n",
    "stdsLH, areasLH, areaLH = solver.iterSample_std(N_RUNS_STDERR, ITERATIONS, SAMPLES, trueArea=TRUE_AREA, verbose=True, parallel=True)\n",
    "np.savetxt(experimentName + \"_stds.out\", stdsLH)\n",
    "np.savetxt(experimentName + \"_areas.out\", areasLH)"
   ]
  },
  {
   "cell_type": "code",
   "execution_count": null,
   "metadata": {},
   "outputs": [],
   "source": [
    "print(areaLH)\n",
    "lognorm = False\n",
    "\n",
    "fig, ax = plt.subplots()\n",
    "im = ax.imshow(stdsLH)\n",
    "\n",
    "ax.set_xlabel(\"Samples\")\n",
    "# ax.set_xticks(samples)\n",
    "ax.set_ylabel(\"Iterations\")\n",
    "# ax.set_yticks(iterations)\n",
    "ax.set_title(\"Standard Error over samples and iterations\")\n",
    "fig.colorbar(im, ax = ax)\n",
    "plt.show()"
   ]
  },
  {
   "cell_type": "markdown",
   "metadata": {},
   "source": [
    "# Orthogonal Sampling\n",
    "*Can only use prime squared numbered amounts of samples*"
   ]
  },
  {
   "cell_type": "markdown",
   "metadata": {},
   "source": [
    "## Single Calculation"
   ]
  },
  {
   "cell_type": "code",
   "execution_count": null,
   "metadata": {},
   "outputs": [],
   "source": [
    "solver = OrthogonalSampling()\n",
    "\n",
    "nIter = 20000\n",
    "nSamples = 19321 # 139**2\n",
    "\n",
    "area, points = solver.mandelbrotArea(nIter, nSamples, scatter=True)"
   ]
  },
  {
   "cell_type": "code",
   "execution_count": null,
   "metadata": {},
   "outputs": [],
   "source": [
    "fig, ax = plt.subplots()\n",
    "\n",
    "pointsx, pointsy = zip(*points)\n",
    "\n",
    "ax.scatter(pointsx, pointsy)\n",
    "print(f\"Area={area}\")\n",
    "plt.show()"
   ]
  },
  {
   "cell_type": "code",
   "execution_count": null,
   "metadata": {},
   "outputs": [],
   "source": [
    "solver = OrthogonalSampling()\n",
    "print(f\"seed: {solver.get_state()}\")\n",
    "experimentName = \"Orthogonal\"\n",
    "\n",
    "stdsORT, areasORT, areaORT = solver.iterSample_std(N_RUNS_STDERR, ITERATIONS, SAMPLES, trueArea=TRUE_AREA, verbose=True, parallel=True)\n",
    "np.savetxt(experimentName + \"_stds.out\", stdsORT)\n",
    "np.savetxt(experimentName + \"_areas.out\", areasORT)"
   ]
  },
  {
   "cell_type": "code",
   "execution_count": null,
   "metadata": {},
   "outputs": [],
   "source": [
    "print(areaORT)\n",
    "lognorm = False\n",
    "\n",
    "fig, ax = plt.subplots()\n",
    "im = ax.imshow(stdsORT)\n",
    "\n",
    "ax.set_xlabel(\"Samples\")\n",
    "# ax.set_xticks(samples)\n",
    "ax.set_ylabel(\"Iterations\")\n",
    "# ax.set_yticks(iterations)\n",
    "ax.set_title(\"Standard Error over samples and iterations\")\n",
    "fig.colorbar(im, ax = ax)\n",
    "plt.show()"
   ]
  },
  {
   "cell_type": "code",
   "execution_count": 17,
   "metadata": {},
   "outputs": [
    {
     "ename": "NameError",
     "evalue": "name 'stdsLH' is not defined",
     "output_type": "error",
     "traceback": [
      "\u001b[1;31m---------------------------------------------------------------------------\u001b[0m",
      "\u001b[1;31mNameError\u001b[0m                                 Traceback (most recent call last)",
      "Cell \u001b[1;32mIn[17], line 3\u001b[0m\n\u001b[0;32m      1\u001b[0m fig, ax \u001b[38;5;241m=\u001b[39m plt\u001b[38;5;241m.\u001b[39msubplots()\n\u001b[0;32m      2\u001b[0m ax\u001b[38;5;241m.\u001b[39mplot(SAMPLES, stdsPR[:,\u001b[38;5;241m-\u001b[39m\u001b[38;5;241m1\u001b[39m])\n\u001b[1;32m----> 3\u001b[0m ax\u001b[38;5;241m.\u001b[39mplot(ITERATIONS, \u001b[43mstdsLH\u001b[49m[\u001b[38;5;241m-\u001b[39m\u001b[38;5;241m1\u001b[39m,:])\n\u001b[0;32m      4\u001b[0m ax\u001b[38;5;241m.\u001b[39mplot(ITERATIONS, stdsORT[\u001b[38;5;241m-\u001b[39m\u001b[38;5;241m1\u001b[39m,:])\n\u001b[0;32m      5\u001b[0m plt\u001b[38;5;241m.\u001b[39mshow()\n",
      "\u001b[1;31mNameError\u001b[0m: name 'stdsLH' is not defined"
     ]
    },
    {
     "data": {
      "image/png": "[encoded data removed]",
      "text/plain": [
       "<Figure size 640x480 with 1 Axes>"
      ]
     },
     "metadata": {},
     "output_type": "display_data"
    }
   ],
   "source": [
    "fig, ax = plt.subplots()\n",
    "ax.plot(SAMPLES, stdsPR[:,-1])\n",
    "ax.plot(ITERATIONS, stdsLH[-1,:])\n",
    "ax.plot(ITERATIONS, stdsORT[-1,:])\n",
    "plt.show()"
   ]
  },
  {
   "cell_type": "code",
   "execution_count": null,
   "metadata": {},
   "outputs": [],
   "source": [
    "fig, ax = plt.subplots()\n",
    "ax.plot(SAMPLES, stdsPR[:,-1])\n",
    "ax.plot(SAMPLES, stdsLH[:,-1])\n",
    "ax.plot(SAMPLES, stdsORT[:,-1])\n",
    "plt.show()"
   ]
  },
  {
   "cell_type": "code",
   "execution_count": null,
   "metadata": {},
   "outputs": [],
   "source": []
  },
  {
   "cell_type": "code",
   "execution_count": null,
   "metadata": {},
   "outputs": [],
   "source": []
  },
  {
   "cell_type": "code",
   "execution_count": null,
   "metadata": {},
   "outputs": [],
   "source": []
  }
 ],
 "metadata": {
  "kernelspec": {
   "display_name": ".venv",
   "language": "python",
   "name": "python3"
  },
  "language_info": {
   "codemirror_mode": {
    "name": "ipython",
    "version": 3
   },
   "file_extension": ".py",
   "mimetype": "text/x-python",
   "name": "python",
   "nbconvert_exporter": "python",
   "pygments_lexer": "ipython3",
   "version": "3.12.3"
  }
 },
 "nbformat": 4,
 "nbformat_minor": 2
}
