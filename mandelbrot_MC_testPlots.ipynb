{
 "cells": [
  {
   "cell_type": "code",
   "execution_count": 20,
   "metadata": {},
   "outputs": [],
   "source": [
    "import numpy as np\n",
    "import matplotlib.colors\n",
    "import matplotlib.pyplot as plt\n",
    "\n",
    "import mandelbrot_MC as mb\n",
    "from mandelbrot_MC_solvers import PureRandomSampling, LatinHypercubeSampling, OrthogonalSampling\n",
    "\n",
    "N_RUNS_STDERR = 10"
   ]
  },
  {
   "cell_type": "code",
   "execution_count": null,
   "metadata": {},
   "outputs": [],
   "source": [
    "xRes = 500\n",
    "yRes = 500\n",
    "\n",
    "xVals = np.linspace(-2, 2, xRes)\n",
    "yVals = np.linspace(-2, 2, yRes)\n",
    "\n",
    "out = mb.mandelbrotDomain(xVals, yVals, 50, 2, 2)\n",
    "\n",
    "fig, ax = plt.subplots()\n",
    "ax.pcolormesh(xVals, yVals, out, norm=matplotlib.colors.LogNorm())\n",
    "plt.show()\n"
   ]
  },
  {
   "cell_type": "code",
   "execution_count": 22,
   "metadata": {},
   "outputs": [],
   "source": [
    "primes = np.asarray(mb.prime_sieve(139))\n",
    "pSquares = np.square(primes)\n",
    "print(pSquares[8:20])"
   ]
  },
  {
   "cell_type": "markdown",
   "metadata": {},
   "source": [
    "# Pure Random"
   ]
  },
  {
   "cell_type": "code",
   "execution_count": 23,
   "metadata": {},
   "outputs": [],
   "source": [
    "solver = PureRandomSampling()\n",
    "\n",
    "nIter = 20000\n",
    "nSamples = 20000\n",
    "\n",
    "area, points = solver.mandelbrotArea(nIter, nSamples, scatter=True)"
   ]
  },
  {
   "cell_type": "code",
   "execution_count": 24,
   "metadata": {},
   "outputs": [],
   "source": [
    "fig, ax = plt.subplots()\n",
    "\n",
    "pointsx, pointsy = zip(*points)\n",
    "\n",
    "ax.scatter(pointsx, pointsy)\n",
    "print(f\"Area={area}\")\n",
    "plt.show()"
   ]
  },
  {
   "cell_type": "code",
   "execution_count": null,
   "metadata": {},
   "outputs": [],
   "source": [
    "solver = PureRandomSampling()\n",
    "\n",
    "minIter = 50\n",
    "maxIter = 500\n",
    "iterSteps = 10\n",
    "\n",
    "minSamples = 50\n",
    "maxSamples = 500\n",
    "sampleSteps = 10\n",
    "\n",
    "nRuns = 20\n",
    "\n",
    "samples = pSquares[8:20]\n",
    "iterations = np.linspace(minIter, maxIter, iterSteps, dtype=int)\n",
    "\n",
    "stdsPR, areasPR, areaPR = solver.iterSample_std(nRuns, iterations, samples, (20000,20000), verbose=True)"
   ]
  },
  {
   "cell_type": "code",
   "execution_count": 29,
   "metadata": {},
   "outputs": [
    {
     "name": "stdout",
     "output_type": "stream",
     "text": [
      "1.4792\n"
     ]
    },
    {
     "data": {
      "image/png": "[encoded data removed]",
      "text/plain": [
       "<Figure size 640x480 with 2 Axes>"
      ]
     },
     "metadata": {},
     "output_type": "display_data"
    }
   ],
   "source": [
    "print(areaPR)\n",
    "\n",
    "fig, ax = plt.subplots()\n",
    "\n",
    "im = ax.imshow(stdsPR)\n",
    "\n",
    "ax.set_xlabel(\"Samples\")\n",
    "# ax.set_xticks(samples)\n",
    "ax.set_ylabel(\"Iterations\")\n",
    "# ax.set_yticks(iterations)\n",
    "ax.set_title(\"Standard Error over samples and iterations\")\n",
    "fig.colorbar(im, ax = ax)\n",
    "plt.show()"
   ]
  },
  {
   "cell_type": "markdown",
   "metadata": {},
   "source": [
    "# Latin Hypercube"
   ]
  },
  {
   "cell_type": "markdown",
   "metadata": {},
   "source": [
    "## Single Calculation"
   ]
  },
  {
   "cell_type": "code",
   "execution_count": null,
   "metadata": {},
   "outputs": [],
   "source": [
    "solver = LatinHypercubeSampling(yDomain=(0,2))\n",
    "\n",
    "nIter = 20000\n",
    "nSamples = 20000\n",
    "\n",
    "area, points = solver.mandelbrotArea(nIter, nSamples, scatter=True)"
   ]
  },
  {
   "cell_type": "code",
   "execution_count": null,
   "metadata": {},
   "outputs": [],
   "source": [
    "fig, ax = plt.subplots()\n",
    "\n",
    "pointsx, pointsy = zip(*points)\n",
    "\n",
    "ax.scatter(pointsx, pointsy)\n",
    "print(f\"Area={area}\")\n",
    "plt.show()"
   ]
  },
  {
   "cell_type": "markdown",
   "metadata": {},
   "source": [
    "## Standard Error"
   ]
  },
  {
   "cell_type": "code",
   "execution_count": null,
   "metadata": {},
   "outputs": [],
   "source": [
    "solver = LatinHypercubeSampling()\n",
    "\n",
    "minIter = 50\n",
    "maxIter = 500\n",
    "iterSteps = 10\n",
    "\n",
    "minSamples = 500\n",
    "maxSamples = 5000\n",
    "sampleSteps = 10\n",
    "\n",
    "samples = pSquares[8:20]\n",
    "iterations = np.linspace(minIter, maxIter, sampleSteps, dtype=int)\n",
    "\n",
    "stdsLH, areasLH, areaLH = solver.iterSample_std(N_RUNS_STDERR, iterations, samples, (20000,20000), verbose=True)"
   ]
  },
  {
   "cell_type": "code",
   "execution_count": null,
   "metadata": {},
   "outputs": [],
   "source": [
    "print(areaLH)\n",
    "lognorm = False\n",
    "\n",
    "fig, ax = plt.subplots()\n",
    "im = ax.imshow(stdsLH)\n",
    "\n",
    "ax.set_xlabel(\"Samples\")\n",
    "# ax.set_xticks(samples)\n",
    "ax.set_ylabel(\"Iterations\")\n",
    "# ax.set_yticks(iterations)\n",
    "ax.set_title(\"Standard Error over samples and iterations\")\n",
    "fig.colorbar(im, ax = ax)\n",
    "plt.show()"
   ]
  },
  {
   "cell_type": "markdown",
   "metadata": {},
   "source": [
    "# Orthogonal Sampling\n",
    "*Can only use prime squared numbered amounts of samples*"
   ]
  },
  {
   "cell_type": "markdown",
   "metadata": {},
   "source": [
    "## Single Calculation"
   ]
  },
  {
   "cell_type": "code",
   "execution_count": null,
   "metadata": {},
   "outputs": [],
   "source": [
    "solver = OrthogonalSampling()\n",
    "\n",
    "nIter = 20000\n",
    "nSamples = 19321 # 139**2\n",
    "\n",
    "area, points = solver.mandelbrotArea(nIter, nSamples, scatter=True)"
   ]
  },
  {
   "cell_type": "code",
   "execution_count": null,
   "metadata": {},
   "outputs": [],
   "source": [
    "fig, ax = plt.subplots()\n",
    "\n",
    "pointsx, pointsy = zip(*points)\n",
    "\n",
    "ax.scatter(pointsx, pointsy)\n",
    "print(f\"Area={area}\")\n",
    "plt.show()"
   ]
  },
  {
   "cell_type": "code",
   "execution_count": null,
   "metadata": {},
   "outputs": [],
   "source": [
    "# TODO: Nearest prime squared number for sample points\n",
    "solver = OrthogonalSampling()\n",
    "\n",
    "minIter = 50\n",
    "maxIter = 500\n",
    "iterSteps = 10\n",
    "\n",
    "minSamples = 500\n",
    "maxSamples = 5000\n",
    "sampleSteps = 10\n",
    "\n",
    "nRuns = 10\n",
    "\n",
    "samples = pSquares[8:20]\n",
    "iterations = np.linspace(minIter, maxIter, sampleSteps, dtype=int)\n",
    "\n",
    "stdsORT, areasORT, areaORT = solver.iterSample_std(nRuns, iterations, samples, trueArea=1.5469, verbose=True)"
   ]
  },
  {
   "cell_type": "code",
   "execution_count": null,
   "metadata": {},
   "outputs": [],
   "source": [
    "print(areaORT)\n",
    "lognorm = False\n",
    "\n",
    "fig, ax = plt.subplots()\n",
    "im = ax.imshow(stdsORT)\n",
    "\n",
    "ax.set_xlabel(\"Samples\")\n",
    "# ax.set_xticks(samples)\n",
    "ax.set_ylabel(\"Iterations\")\n",
    "# ax.set_yticks(iterations)\n",
    "ax.set_title(\"Standard Error over samples and iterations\")\n",
    "fig.colorbar(im, ax = ax)\n",
    "plt.show()"
   ]
  },
  {
   "cell_type": "code",
   "execution_count": 30,
   "metadata": {},
   "outputs": [
    {
     "ename": "NameError",
     "evalue": "name 'stdsLH' is not defined",
     "output_type": "error",
     "traceback": [
      "\u001b[1;31m---------------------------------------------------------------------------\u001b[0m",
      "\u001b[1;31mNameError\u001b[0m                                 Traceback (most recent call last)",
      "Cell \u001b[1;32mIn [30], line 3\u001b[0m\n\u001b[0;32m      1\u001b[0m fig, ax \u001b[38;5;241m=\u001b[39m plt\u001b[38;5;241m.\u001b[39msubplots()\n\u001b[0;32m      2\u001b[0m ax\u001b[38;5;241m.\u001b[39mplot(iterations, stdsPR[\u001b[38;5;241m-\u001b[39m\u001b[38;5;241m1\u001b[39m,:])\n\u001b[1;32m----> 3\u001b[0m ax\u001b[38;5;241m.\u001b[39mplot(iterations, \u001b[43mstdsLH\u001b[49m[\u001b[38;5;241m-\u001b[39m\u001b[38;5;241m1\u001b[39m,:])\n\u001b[0;32m      4\u001b[0m ax\u001b[38;5;241m.\u001b[39mplot(iterations, stdsORT[\u001b[38;5;241m-\u001b[39m\u001b[38;5;241m1\u001b[39m,:])\n\u001b[0;32m      5\u001b[0m plt\u001b[38;5;241m.\u001b[39mshow()\n",
      "\u001b[1;31mNameError\u001b[0m: name 'stdsLH' is not defined"
     ]
    },
    {
     "data": {
      "image/png": "[encoded data removed]",
      "text/plain": [
       "<Figure size 640x480 with 1 Axes>"
      ]
     },
     "metadata": {},
     "output_type": "display_data"
    }
   ],
   "source": [
    "fig, ax = plt.subplots()\n",
    "ax.plot(iterations, stdsPR[-1,:])\n",
    "ax.plot(iterations, stdsLH[-1,:])\n",
    "ax.plot(iterations, stdsORT[-1,:])\n",
    "plt.show()"
   ]
  },
  {
   "cell_type": "code",
   "execution_count": null,
   "metadata": {},
   "outputs": [],
   "source": [
    "fig, ax = plt.subplots()\n",
    "ax.plot(samples, stdsPR[:,-1])\n",
    "ax.plot(samples, stdsLH[:,-1])\n",
    "ax.plot(samples, stdsORT[:,-1])\n",
    "plt.show()"
   ]
  },
  {
   "cell_type": "code",
   "execution_count": null,
   "metadata": {},
   "outputs": [],
   "source": []
  },
  {
   "cell_type": "code",
   "execution_count": null,
   "metadata": {},
   "outputs": [],
   "source": []
  },
  {
   "cell_type": "code",
   "execution_count": null,
   "metadata": {},
   "outputs": [],
   "source": []
  }
 ],
 "metadata": {
  "kernelspec": {
   "display_name": "Python 3",
   "language": "python",
   "name": "python3"
  },
  "language_info": {
   "codemirror_mode": {
    "name": "ipython",
    "version": 3
   },
   "file_extension": ".py",
   "mimetype": "text/x-python",
   "name": "python",
   "nbconvert_exporter": "python",
   "pygments_lexer": "ipython3",
   "version": "3.11.0"
  }
 },
 "nbformat": 4,
 "nbformat_minor": 2
}
